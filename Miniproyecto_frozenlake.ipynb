{
 "cells": [
  {
   "cell_type": "markdown",
   "metadata": {
    "colab_type": "text",
    "id": "V3SkDSWJ0dYJ"
   },
   "source": [
    "# Miniproyecto 3 - Resolviendo Frozen Lake <a class=\"anchor\" id=\"inicio\"></a>\n",
    "\n",
    "### Winston Pernett - Gina Martinez\n",
    "\n",
    "En este notebook veremos una manera de resolver el ambiente de Frozen Lake, para que un agente pueda llegar a su destino al menos el 80% de las veces. Para ello hacemos uso de la clase Q-Learning que corresponde a un agente, el cual se va a ir entrenando a partir de la regla Q-learning que permite a un agente aprender a tomar decisiones óptimas en un entorno de toma de decisiones. El objetivo de esta regla es aprender una política de acción que maximice la recompensa total esperada del agente a lo largo del tiempo."
   ]
  },
  {
   "cell_type": "markdown",
   "metadata": {},
   "source": [
    "# Dependencias\n",
    "\n",
    "Al iniciar el notebook o reiniciar el kerner se pueden cargar todas las dependencias de este notebook corriendo las siguientes celdas. Este también es el lugar para instalar las dependencias que podrían hacer falta."
   ]
  },
  {
   "cell_type": "markdown",
   "metadata": {},
   "source": [
    "**De Python:**"
   ]
  },
  {
   "cell_type": "code",
   "execution_count": 1,
   "metadata": {},
   "outputs": [],
   "source": [
    "# En linux o mac\n",
    "#!pip3 install -r requirements.txt\n",
    "#!pip3 install gymnasium[toy-text]\n",
    "\n",
    "\n",
    "# !python -m pip install -r requirements.txt\n",
    "# !python -m pip install gymnasium[toy-text]\n",
    "# !python -m pip install termcolor\n",
    "# !python -m pip install torch\n",
    "# !python -m pip install moviepy\n"
   ]
  },
  {
   "cell_type": "code",
   "execution_count": 7,
   "metadata": {},
   "outputs": [
    {
     "name": "stderr",
     "output_type": "stream",
     "text": [
      "c:\\Users\\winst\\anaconda3\\lib\\site-packages\\scipy\\__init__.py:146: UserWarning: A NumPy version >=1.16.5 and <1.23.0 is required for this version of SciPy (detected version 1.24.2\n",
      "  warnings.warn(f\"A NumPy version >={np_minversion} and <{np_maxversion}\"\n"
     ]
    }
   ],
   "source": [
    "import numpy as np\n",
    "import pandas as pd\n",
    "import seaborn as sns\n",
    "import matplotlib.pyplot as plt\n",
    "from termcolor import colored, cprint"
   ]
  },
  {
   "cell_type": "markdown",
   "metadata": {},
   "source": [
    "**Del notebook:**"
   ]
  },
  {
   "cell_type": "code",
   "execution_count": 8,
   "metadata": {},
   "outputs": [],
   "source": [
    "from agents import Agent\n",
    "from algoritmos import *\n",
    "from utils import Episode, Experiment, gym_interpreter1\n",
    "from plot_utils import PlotGridValues, Plot\n",
    "from tests import *\n",
    "import gymnasium as gym\n",
    "from gymnasium.envs.toy_text.frozen_lake import generate_random_map\n",
    "from gymnasium.wrappers import TimeLimit"
   ]
  },
  {
   "cell_type": "markdown",
   "metadata": {},
   "source": [
    "---"
   ]
  },
  {
   "cell_type": "markdown",
   "metadata": {},
   "source": [
    "Se realiza la implementación de la regla Q-learning. \n",
    "\n",
    "<img src=\"./imagenes/q_learning_agent.png\" width=\"450\"/>"
   ]
  },
  {
   "cell_type": "code",
   "execution_count": 10,
   "metadata": {},
   "outputs": [],
   "source": [
    "class Q_learning(Agent) :\n",
    "    '''\n",
    "    Implements a Q-learning rule.\n",
    "    '''\n",
    "\n",
    "    def __init__(self, parameters:dict):\n",
    "        super().__init__(parameters)\n",
    "        self.alpha = self.parameters['alpha']\n",
    "        self.debug = False\n",
    "    def update(self, next_state, reward, done):\n",
    "        '''\n",
    "        Agent updates its model.\n",
    "        '''\n",
    "        \n",
    "        state = self.states[-1] # Aquí estado previo\n",
    "        action = self.actions[-1] # Aquí acción previa\n",
    "        \n",
    "        \n",
    "        maxQ = self.max_Q(next_state) \n",
    "        \n",
    "        estimate = reward + (self.gamma * maxQ) # Calcula el estimado\n",
    "\n",
    "        delta = estimate - self.Q[state, action] # Calcula el delta\n",
    "        \n",
    "        prev_Q = self.Q[state, action]\n",
    "        self.Q[state, action] = prev_Q + self.alpha * delta # Actualiza el valor\n",
    "        # Update policy\n",
    "        self.update_policy(state) # Actualizar la política en el estado        \n",
    "        if self.debug:\n",
    "            print('')\n",
    "            print(dash_line)\n",
    "            print(f'Learning log:')\n",
    "            print(f'state:{state}')\n",
    "            print(f'action:{action}')\n",
    "            print(f'reward:{reward}')\n",
    "            print(f'estimate:{estimate}')\n",
    "            print(f'Previous Q:{prev_Q}')\n",
    "            print(f'delta:{delta}')\n",
    "            print(f'New Q:{self.Q[state, action]}') \n",
    " "
   ]
  },
  {
   "cell_type": "code",
   "execution_count": 11,
   "metadata": {},
   "outputs": [
    {
     "data": {
      "application/vnd.jupyter.widget-view+json": {
       "model_id": "e4252683fd3c4afba0f9e334db21b01a",
       "version_major": 2,
       "version_minor": 0
      },
      "text/plain": [
       "  0%|          | 0/1500 [00:00<?, ?it/s]"
      ]
     },
     "metadata": {},
     "output_type": "display_data"
    }
   ],
   "source": [
    "# Creamos nuestro entorno inicial\n",
    "frozen = gym.make('FrozenLake-v1', \n",
    "               desc=[\"SFFF\", \"FFHF\", \"FHFF\", \"FFFG\"], \n",
    "               map_name=\"4x4\",\n",
    "               is_slippery=True, \n",
    "               render_mode='rgb_array')\n",
    "\n",
    "#Definimos los parámetros del agente\n",
    "parameters = {\n",
    "    \"nS\": 16,\n",
    "    \"nA\": 4,\n",
    "    \"gamma\":1,\n",
    "    \"epsilon\":0.1,\\\n",
    "    \"alpha\":0.1\n",
    "}\n",
    "\n",
    "# Creamos el agente con base en los parámetros\n",
    "agent = Q_learning(parameters=parameters)\n",
    "\n",
    "\n",
    "#Creamos el episodio que corresponde  a una función del modulo utils\n",
    "episode = Episode(environment=frozen,\\\n",
    "                          env_name=\"Frozen\",\\\n",
    "                          agent=agent,\\\n",
    "                          model_name='Q_Learning',\\\n",
    "                          num_rounds=200,\\\n",
    "                          state_interpreter=gym_interpreter1\n",
    "                          )\n",
    "# Entrenamos el agente con 1500 episodios\n",
    "df = episode.simulate(num_episodes=1500)\n",
    "\n"
   ]
  },
  {
   "cell_type": "code",
   "execution_count": 12,
   "metadata": {},
   "outputs": [
    {
     "data": {
      "text/plain": [
       "<Axes: xlabel='Episode', ylabel='Total reward'>"
      ]
     },
     "execution_count": 12,
     "metadata": {},
     "output_type": "execute_result"
    },
    {
     "data": {
      "image/png": "[encoded data removed]",
      "text/plain": [
       "<Figure size 288x252 with 1 Axes>"
      ]
     },
     "metadata": {
      "needs_background": "light"
     },
     "output_type": "display_data"
    }
   ],
   "source": [
    "# Graficamos los resultados\n",
    "p =  Plot(df)\n",
    "\n",
    "p.plot_rewards(file=\"file.png\") # Grafica las recompensas totales obtenidas en cada episodio. La recompensa es 1 si llega a la meta, cualquier otra accion es 0\n",
    " "
   ]
  },
  {
   "cell_type": "code",
   "execution_count": 13,
   "metadata": {},
   "outputs": [
    {
     "data": {
      "text/plain": [
       "array([[0.9       , 0.03333333, 0.03333333, 0.03333333],\n",
       "       [0.9       , 0.03333333, 0.03333333, 0.03333333],\n",
       "       [0.9       , 0.03333333, 0.03333333, 0.03333333],\n",
       "       [0.03333333, 0.9       , 0.03333333, 0.03333333],\n",
       "       [0.9       , 0.03333333, 0.03333333, 0.03333333],\n",
       "       [0.03333333, 0.03333333, 0.03333333, 0.9       ],\n",
       "       [0.25      , 0.25      , 0.25      , 0.25      ],\n",
       "       [0.03333333, 0.9       , 0.03333333, 0.03333333],\n",
       "       [0.9       , 0.03333333, 0.03333333, 0.03333333],\n",
       "       [0.25      , 0.25      , 0.25      , 0.25      ],\n",
       "       [0.03333333, 0.9       , 0.03333333, 0.03333333],\n",
       "       [0.03333333, 0.03333333, 0.9       , 0.03333333],\n",
       "       [0.03333333, 0.9       , 0.03333333, 0.03333333],\n",
       "       [0.03333333, 0.9       , 0.03333333, 0.03333333],\n",
       "       [0.03333333, 0.9       , 0.03333333, 0.03333333],\n",
       "       [0.25      , 0.25      , 0.25      , 0.25      ]])"
      ]
     },
     "execution_count": 13,
     "metadata": {},
     "output_type": "execute_result"
    }
   ],
   "source": [
    "agent.policy # Política final despues de entrenar. Observamos los valores de la tabla Q para las diferentes acciones\n",
    "#Por ejemplo para el estado 0, la acción 0 tiene el valor más alto, por lo que la política es 0"
   ]
  },
  {
   "cell_type": "markdown",
   "metadata": {},
   "source": [
    "Durante el proceso de aprendizaje, queremos que el agente pruebe distintos cursos de acción, de manera tal que tenga una mayor confianza en que está llegando a una política óptima. No obstante, a la hora de poner a marchar al agente en producción, queremos que el agente tenga su mejor desempeño. Para ello, necesitamos poner su parámetro $\\epsilon$ en 0. "
   ]
  },
  {
   "cell_type": "code",
   "execution_count": 14,
   "metadata": {},
   "outputs": [],
   "source": [
    "# Eliminamos la exploración\n",
    "\n",
    "agent.epsilon = 0\n",
    "for s in range(agent.nS):\n",
    "    agent.update_policy(s) # Actualizar la política en el estado"
   ]
  },
  {
   "cell_type": "code",
   "execution_count": 15,
   "metadata": {},
   "outputs": [
    {
     "data": {
      "text/plain": [
       "array([[1., 0., 0., 0.],\n",
       "       [1., 0., 0., 0.],\n",
       "       [1., 0., 0., 0.],\n",
       "       [0., 1., 0., 0.],\n",
       "       [1., 0., 0., 0.],\n",
       "       [0., 0., 0., 1.],\n",
       "       [0., 1., 0., 0.],\n",
       "       [0., 1., 0., 0.],\n",
       "       [1., 0., 0., 0.],\n",
       "       [0., 1., 0., 0.],\n",
       "       [0., 1., 0., 0.],\n",
       "       [0., 0., 1., 0.],\n",
       "       [0., 1., 0., 0.],\n",
       "       [0., 1., 0., 0.],\n",
       "       [0., 1., 0., 0.],\n",
       "       [0., 0., 0., 1.]])"
      ]
     },
     "execution_count": 15,
     "metadata": {},
     "output_type": "execute_result"
    }
   ],
   "source": [
    "agent.policy # Política final al eliminar exploración. Observamos los valores de la tabla Q para las diferentes acciones"
   ]
  },
  {
   "cell_type": "code",
   "execution_count": 16,
   "metadata": {},
   "outputs": [
    {
     "data": {
      "application/vnd.jupyter.widget-view+json": {
       "model_id": "e1425048f98b4d4297ab2871a5628979",
       "version_major": 2,
       "version_minor": 0
      },
      "text/plain": [
       "  0%|          | 0/100 [00:00<?, ?it/s]"
      ]
     },
     "metadata": {},
     "output_type": "display_data"
    },
    {
     "name": "stdout",
     "output_type": "stream",
     "text": [
      "Average sum of rewards:\n",
      " model\n",
      "Q_Learning    1.0\n",
      "Name: reward, dtype: float64\n",
      "\n",
      "Episode termination percentage:\n",
      " model\n",
      "Q_Learning    100.0\n",
      "Name: done, dtype: float64\n"
     ]
    },
    {
     "data": {
      "text/plain": [
       "<Axes: xlabel='Sum of rewards', ylabel='Frequency'>"
      ]
     },
     "execution_count": 16,
     "metadata": {},
     "output_type": "execute_result"
    },
    {
     "data": {
      "image/png": "[encoded data removed]",
      "text/plain": [
       "<Figure size 288x252 with 1 Axes>"
      ]
     },
     "metadata": {
      "needs_background": "light"
     },
     "output_type": "display_data"
    }
   ],
   "source": [
    "frozen.reset() # Reiniciamos el entorno\n",
    "\n",
    "# Evaluación del agente entrenado \n",
    "episode = Episode(environment=frozen,\\\n",
    "                          env_name=\"Frozen\",\\\n",
    "                          agent=agent,\\\n",
    "                          model_name='Q_Learning',\\\n",
    "                          num_rounds=200,\\\n",
    "                          state_interpreter=gym_interpreter1\n",
    "                          )\n",
    "df = episode.simulate(num_episodes=100,learn=False)\n",
    "Plot(df).plot_histogram_rewards()"
   ]
  },
  {
   "cell_type": "code",
   "execution_count": 18,
   "metadata": {},
   "outputs": [
    {
     "data": {
      "text/plain": [
       "array([0, 0, 0, 1, 0, 3, 1, 1, 0, 1, 1, 2, 1, 1, 1, 3], dtype=int64)"
      ]
     },
     "execution_count": 18,
     "metadata": {},
     "output_type": "execute_result"
    }
   ],
   "source": [
    "np.where((agent.policy) == 1)[1] #Obtenemos las acciones para cada estado"
   ]
  },
  {
   "cell_type": "code",
   "execution_count": 19,
   "metadata": {},
   "outputs": [
    {
     "data": {
      "image/png": "[encoded data removed]",
      "text/plain": [
       "<Figure size 864x360 with 3 Axes>"
      ]
     },
     "metadata": {
      "needs_background": "light"
     },
     "output_type": "display_data"
    }
   ],
   "source": [
    "Q = []\n",
    "for i in range(agent.nS):\n",
    "    Q.append(round(agent.max_Q(i),3)) # Obtenemos el valor máximo de Q para cada estado\n",
    "    \n",
    "dict_acciones = {3:\"⬆\", 0:\"⬅\", 1:\"⬇\", 2:\"➡\"} # 0-Izquierda 1-Abajo 2-Derecha 3-Arriba\n",
    "pp = PlotGridValues(shape=(4,4), dict_acciones=dict_acciones)\n",
    "\n",
    "pp.plot_policy_and_values(np.where((agent.policy) == 1)[1].reshape(16),Q) # Graficamos la política y los valores de Q"
   ]
  },
  {
   "cell_type": "markdown",
   "metadata": {},
   "source": [
    "---"
   ]
  }
 ],
 "metadata": {
  "colab": {
   "name": "arboles_busqueda.ipynb",
   "provenance": []
  },
  "kernelspec": {
   "display_name": "Python 3",
   "language": "python",
   "name": "python3"
  },
  "language_info": {
   "codemirror_mode": {
    "name": "ipython",
    "version": 3
   },
   "file_extension": ".py",
   "mimetype": "text/x-python",
   "name": "python",
   "nbconvert_exporter": "python",
   "pygments_lexer": "ipython3",
   "version": "3.9.12"
  }
 },
 "nbformat": 4,
 "nbformat_minor": 1
}
